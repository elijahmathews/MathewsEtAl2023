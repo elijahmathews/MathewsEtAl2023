{
 "cells": [
  {
   "cell_type": "markdown",
   "id": "e08a013b",
   "metadata": {},
   "source": [
    "# Using the Emulator with Prospector"
   ]
  },
  {
   "cell_type": "code",
   "execution_count": null,
   "id": "2acec4eb",
   "metadata": {},
   "outputs": [],
   "source": [
    "import sys, os\n",
    "sys.path.append(os.path.join(os.getcwd(), '..', 'src'))\n",
    "\n",
    "import numpy as np\n",
    "\n",
    "from prospect.fitting import fit_model\n",
    "from prospect.io.write_results import write_hdf5\n",
    "from prospect.plotting.utils import sample_posterior\n",
    "\n",
    "import corner\n",
    "\n",
    "# Load code from this repository\n",
    "from utils import *\n",
    "from obs import *\n",
    "from models import *\n",
    "from sps import *"
   ]
  },
  {
   "cell_type": "code",
   "execution_count": null,
   "id": "dce08c9c",
   "metadata": {},
   "outputs": [],
   "source": [
    "parnames = [\n",
    "    \"logmass\",\n",
    "    \"logzsol\",\n",
    "    \"logsfr_ratio_1\",\n",
    "    \"logsfr_ratio_1\",\n",
    "    \"logsfr_ratio_1\",\n",
    "    \"logsfr_ratio_1\",\n",
    "    \"logsfr_ratio_1\",\n",
    "    \"logsfr_ratio_1\",\n",
    "    \"dust2\",\n",
    "    \"dust_index\",\n",
    "    \"dust1_fraction\",\n",
    "    \"log_fagn\",\n",
    "    \"log_agn_tau\",\n",
    "    \"gas_logz\",\n",
    "    \"duste_qpah\",\n",
    "    \"duste_umin\",\n",
    "    \"log_duste_gamma\",\n",
    "]"
   ]
  },
  {
   "cell_type": "markdown",
   "id": "a6aced00",
   "metadata": {},
   "source": [
    "## Fitting with Emulator"
   ]
  },
  {
   "cell_type": "markdown",
   "id": "0dfd5f07",
   "metadata": {},
   "source": [
    "The first thing we need to do is set up the configuration settings, which get passed to the various `build_obs`, `build_sps`, `build_model`, and `fit_model` functions. The settings listed below will work for both the emulator and FSPS fits below. If you'd like to try fitting different mock objects, feel free to change `objid` (you can select any value between `1` and `10_000`)."
   ]
  },
  {
   "cell_type": "code",
   "execution_count": null,
   "id": "ea0ae68c",
   "metadata": {},
   "outputs": [],
   "source": [
    "run_params = {\n",
    "    # object selection\n",
    "    'objid': 1,\n",
    "    # emulator selection\n",
    "    'emulfp': os.path.join(os.getcwd(), '..', 'data', 'parrot_v4_obsphot_256n_5l_05z30.npy'),\n",
    "    # dynesty params\n",
    "    'nested_maxbatch': None, # maximum number of dynamic patches\n",
    "    'nested_bound': 'multi', # bounding method\n",
    "    'nested_sample': 'rwalk', # sampling method\n",
    "    'nested_walks': 50, # MC walks\n",
    "    'nested_nlive_batch': 200, # size of live point \"batches\"\n",
    "    'nested_nlive_init': 100, # number of initial live points\n",
    "    'nested_weight_kwargs': {'pfrac': 1.0}, # weight posterior over evidence by 100%\n",
    "    'nested_target_n_effective': 2000, # target effective sample size\n",
    "    'nested_dlogz_init': 0.02,\n",
    "    # FSPS info\n",
    "    'zcontinuous': 2,\n",
    "    'compute_vega_mags': False,\n",
    "    'initial_disp':0.1,\n",
    "    'interp_type': 'logarithmic',\n",
    "    'nbins_sfh': 7,\n",
    "    'df': 2,\n",
    "    'agelims': [0.0,7.4772,8.0,8.5,9.0,9.5,9.8,10.0],\n",
    "}"
   ]
  },
  {
   "cell_type": "markdown",
   "id": "0b63a088",
   "metadata": {},
   "source": [
    "One thing to note here is that the `dynesty` settings listed above are far less stringent than those used in the paper. In the paper, we used `nested_nlive_init = 1000` and `nested_target_n_effective = 200000`. Downgrading the settings in the notebook here is just to speed up the fits by calling the emulator/FSPS fewer times - in real-world use, you'll want to use more stringent settings!\n",
    "\n",
    "Now we can load the mock observation:"
   ]
  },
  {
   "cell_type": "code",
   "execution_count": null,
   "id": "09c643d2",
   "metadata": {},
   "outputs": [],
   "source": [
    "obs = build_obs(**run_params)"
   ]
  },
  {
   "cell_type": "markdown",
   "id": "8ebd011e",
   "metadata": {},
   "source": [
    "Next we can load the SPS object."
   ]
  },
  {
   "cell_type": "code",
   "execution_count": null,
   "id": "33e3dfbf",
   "metadata": {},
   "outputs": [],
   "source": [
    "sps_emul = build_sps_emulator(**run_params)"
   ]
  },
  {
   "cell_type": "markdown",
   "id": "8f4ca438",
   "metadata": {},
   "source": [
    "Somewhat counterintuitively, we actually don't need this to be set to anything when using the emulator (all of the emulation stuff takes place in the model object). Hence:"
   ]
  },
  {
   "cell_type": "code",
   "execution_count": null,
   "id": "7988e05e",
   "metadata": {},
   "outputs": [],
   "source": [
    "sps_emul"
   ]
  },
  {
   "cell_type": "markdown",
   "id": "3b432c7e",
   "metadata": {},
   "source": [
    "Speaking of the model object:"
   ]
  },
  {
   "cell_type": "code",
   "execution_count": null,
   "id": "b3a1d700",
   "metadata": {},
   "outputs": [],
   "source": [
    "model_emul = build_model_emulator(obs=obs, sps=sps_emul, **run_params)"
   ]
  },
  {
   "cell_type": "markdown",
   "id": "011fcc19",
   "metadata": {},
   "source": [
    "One thing we need to do when fitting with the emulator is taking the emulator's uncertainties in each filter into account - to do this, we'll use the `modify_obs` function provided by this repo."
   ]
  },
  {
   "cell_type": "code",
   "execution_count": null,
   "id": "203e238f",
   "metadata": {},
   "outputs": [],
   "source": [
    "obs_emul = modify_obs(obs=obs, model=model_emul)"
   ]
  },
  {
   "cell_type": "markdown",
   "id": "29f729b9",
   "metadata": {},
   "source": [
    "With all that out of the way, we can now fit the mock object with the emulator. With the `dynesty` settings chosen above, this shouldn't take too long (~1 minute)."
   ]
  },
  {
   "cell_type": "code",
   "execution_count": null,
   "id": "43cc722e",
   "metadata": {
    "scrolled": true
   },
   "outputs": [],
   "source": [
    "output_emul = fit_model(obs_emul, model_emul, sps_emul, **run_params)"
   ]
  },
  {
   "cell_type": "markdown",
   "id": "a95e1c3c",
   "metadata": {},
   "source": [
    "Now let's take a look at the posterior. First we'll need to resample using the sample weights."
   ]
  },
  {
   "cell_type": "code",
   "execution_count": null,
   "id": "f2ee4e93",
   "metadata": {},
   "outputs": [],
   "source": [
    "resampled_emul = sample_posterior(\n",
    "    output_emul[\"sampling\"][0][\"samples\"],\n",
    "    weights = np.exp(output_emul[\"sampling\"][0][\"logwt\"]-output_emul[\"sampling\"][0][\"logz\"][-1]),\n",
    "    nsample = 10_000,\n",
    ")"
   ]
  },
  {
   "cell_type": "markdown",
   "id": "23cd254b",
   "metadata": {},
   "source": [
    "Then we can create a corner plot:"
   ]
  },
  {
   "cell_type": "code",
   "execution_count": null,
   "id": "b31dbff8",
   "metadata": {},
   "outputs": [],
   "source": [
    "plt_emul = corner.corner(\n",
    "    resampled_emul,\n",
    "    labels = parnames,\n",
    "    quantiles = [0.16, 0.5, 0.84],\n",
    "    show_titles = True,\n",
    "    truths = obs[\"truth\"],\n",
    ")"
   ]
  },
  {
   "cell_type": "markdown",
   "id": "856b0c2c",
   "metadata": {},
   "source": [
    "## Fitting with FSPS"
   ]
  },
  {
   "cell_type": "code",
   "execution_count": null,
   "id": "9dae8479",
   "metadata": {},
   "outputs": [],
   "source": [
    "sps_fsps = build_sps_fsps(**run_params)"
   ]
  },
  {
   "cell_type": "code",
   "execution_count": null,
   "id": "aad21bc4",
   "metadata": {},
   "outputs": [],
   "source": [
    "model_fsps = build_model_fsps(obs=obs, sps=sps_fsps, **run_params)"
   ]
  },
  {
   "cell_type": "markdown",
   "id": "5aacf5f1",
   "metadata": {},
   "source": [
    "Now we can actually run the fit using FSPS. This will take *much* longer (~6 hours).\n",
    "\n",
    "*Note:* The following cell will produce many `RuntimeWarning` messages. These are caused by Prospector's `smoothspec` function and can be safely ignored in this case."
   ]
  },
  {
   "cell_type": "code",
   "execution_count": null,
   "id": "860c996c",
   "metadata": {},
   "outputs": [],
   "source": [
    "output_fsps = fit_model(obs, model_fsps, sps_fsps, **run_params)"
   ]
  },
  {
   "cell_type": "markdown",
   "id": "2e4efdd3",
   "metadata": {},
   "source": [
    "## Fitting with Stitched Emulator"
   ]
  },
  {
   "cell_type": "markdown",
   "id": "c155d535",
   "metadata": {},
   "source": [
    "As described in Section 4.3 of the paper, we've proposed a method for emulating difficult parameters where one produces multiple emulators trained over different, sligthly overlapping ranges in that parameter, and then allow the two overlapping emulators to \"vote\" on the photometry prediction in a differentiable way.\n",
    "\n",
    "In this repository, we provide an example of this sort of emulator - in this case, a composite emulator composed of 24 individual emulators that collectively cover redshift for $0 < z < 24$. This is stored in the `parrot_v4_obsphot_512n_5l_24s_00z24.npy` file in the `/data` directory.\n",
    "\n",
    "To load this, we'll slightly alter the `run_params` dictionary."
   ]
  },
  {
   "cell_type": "code",
   "execution_count": null,
   "id": "8a3e58b4",
   "metadata": {},
   "outputs": [],
   "source": [
    "run_params[\"emulfp\"] = os.path.join(\n",
    "    os.getcwd(),\n",
    "    '..',\n",
    "    'data',\n",
    "    'parrot_v4_obsphot_512n_5l_24s_00z24.npy',\n",
    ")"
   ]
  },
  {
   "cell_type": "markdown",
   "id": "15e51d32",
   "metadata": {},
   "source": [
    "Then we can load the model using the `build_model_stitched` function."
   ]
  },
  {
   "cell_type": "code",
   "execution_count": null,
   "id": "9e78a265",
   "metadata": {},
   "outputs": [],
   "source": [
    "model_stitched = build_model_stitched(obs=obs, sps=sps_emul, **run_params)"
   ]
  },
  {
   "cell_type": "markdown",
   "id": "43222193",
   "metadata": {},
   "source": [
    "Note that this example model allows redshift to be fit as a free variable - note that `zred` is listed as a free variable below:"
   ]
  },
  {
   "cell_type": "code",
   "execution_count": null,
   "id": "29a283b9",
   "metadata": {},
   "outputs": [],
   "source": [
    "model_stitched"
   ]
  },
  {
   "cell_type": "markdown",
   "id": "fa786188",
   "metadata": {},
   "source": [
    "Like before, we'll need to modify the `obs` dictionary to account for the uncertainty the emulator will add to the fit. This can be done with the `modify_obs_stitched` function here:"
   ]
  },
  {
   "cell_type": "code",
   "execution_count": null,
   "id": "04f581e1",
   "metadata": {},
   "outputs": [],
   "source": [
    "obs_stitched = modify_obs_stitched(obs=obs, model=model_stitched)"
   ]
  },
  {
   "cell_type": "markdown",
   "id": "92f08d94",
   "metadata": {},
   "source": [
    "Now we can run the fit!"
   ]
  },
  {
   "cell_type": "code",
   "execution_count": null,
   "id": "dc4feb9e",
   "metadata": {},
   "outputs": [],
   "source": [
    "output_stitched = fit_model(obs_stitched, model_stitched, sps_emul, **run_params)"
   ]
  },
  {
   "cell_type": "code",
   "execution_count": null,
   "id": "6593eae3",
   "metadata": {},
   "outputs": [],
   "source": []
  }
 ],
 "metadata": {
  "@webio": {
   "lastCommId": null,
   "lastKernelId": null
  },
  "kernelspec": {
   "display_name": "Python 3 (ipykernel)",
   "language": "python",
   "name": "python3"
  },
  "language_info": {
   "codemirror_mode": {
    "name": "ipython",
    "version": 3
   },
   "file_extension": ".py",
   "mimetype": "text/x-python",
   "name": "python",
   "nbconvert_exporter": "python",
   "pygments_lexer": "ipython3",
   "version": "3.11.3"
  }
 },
 "nbformat": 4,
 "nbformat_minor": 5
}
